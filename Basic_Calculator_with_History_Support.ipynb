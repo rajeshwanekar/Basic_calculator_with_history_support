{
  "cells": [
    {
      "cell_type": "code",
      "execution_count": null,
      "metadata": {
        "colab": {
          "background_save": true,
          "base_uri": "https://localhost:8080/"
        },
        "id": "MvkekJtPjORL",
        "outputId": "2aebbb11-abbd-4e1e-b7d2-97762b37d27c"
      },
      "outputs": [
        {
          "name": "stdout",
          "output_type": "stream",
          "text": [
            "\n",
            "Options:\n",
            "1. Perform a calculations\n",
            "2. Show calculation history\n",
            "3. Exit\n",
            "Result: 20.0\n",
            "\n",
            "Options:\n",
            "1. Perform a calculations\n",
            "2. Show calculation history\n",
            "3. Exit\n",
            "Calculation history:\n",
            "10.0 * 2.0 = 20.0\n",
            "\n",
            "Options:\n",
            "1. Perform a calculations\n",
            "2. Show calculation history\n",
            "3. Exit\n"
          ]
        }
      ],
      "source": [
        "#Basic Calculator with History Support\n",
        "\n",
        "history = []  #we set this empty list to store inputs and outputs\n",
        "\n",
        "def calculate(num1,operator,num2) :#def is used to create a function. There are three parameters of the calculate function num1(first number),operator(operation),num2(second number)\n",
        "\n",
        "  if operator == '+':\n",
        "    result = num1 + num2\n",
        "  elif operator == '-':\n",
        "    result = num1 - num2\n",
        "  elif operator == '*':\n",
        "    result = num1 * num2\n",
        "  elif operator == '/':\n",
        "   if num2 != 0:\n",
        "    result = num1/num2\n",
        "   else:\n",
        "    return 'Error: Division by zero' #return statement returns the value to the function\n",
        "  else:\n",
        "    return 'invalid operator'\n",
        "  # Add the calculation to the history list\n",
        "  history.append(f\"{num1} {operator} {num2} = {result}\")\n",
        "  return result\n",
        "\n",
        "def show_history():\n",
        "  if not history:\n",
        "    print('No history available.')\n",
        "  else:\n",
        "    print('Calculation history:')\n",
        "    for entry in history:\n",
        "      print(entry)\n",
        "\n",
        "while True:\n",
        "    print('\\nOptions:')\n",
        "    print('1. Perform a calculations')\n",
        "    print('2. Show calculation history')\n",
        "    print('3. Exit')\n",
        "\n",
        "    choice = input('Choose an option(1/2/3): ')\n",
        "\n",
        "    if choice == '1':\n",
        "\n",
        "      num1 = float(input('Enter first number: '))\n",
        "      operator = input('Enter operator(+,-,*,/): ')\n",
        "      num2 = float(input(\"Enter second number: \"))\n",
        "\n",
        "      result = calculate(num1, operator, num2)\n",
        "      print('Result:', result)\n",
        "\n",
        "\n",
        "    elif choice == '2' :\n",
        "\n",
        "      show_history()\n",
        "\n",
        "    elif choice == '3' :\n",
        "\n",
        "      print('Exiting the calculator. Goodbye!')\n",
        "      break\n",
        "\n",
        "\n",
        "    else:\n",
        "      print('Invalid choice. Please choose 1, 2 or 3')"
      ]
    },
    {
      "cell_type": "code",
      "execution_count": null,
      "metadata": {
        "id": "WGr-tK5qxzDZ"
      },
      "outputs": [],
      "source": []
    }
  ],
  "metadata": {
    "colab": {
      "provenance": []
    },
    "kernelspec": {
      "display_name": "Python 3",
      "name": "python3"
    },
    "language_info": {
      "name": "python"
    }
  },
  "nbformat": 4,
  "nbformat_minor": 0
}